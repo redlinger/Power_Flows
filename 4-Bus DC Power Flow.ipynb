{
 "cells": [
  {
   "cell_type": "markdown",
   "id": "8d190490-c019-4d5e-9497-12705ab752a9",
   "metadata": {},
   "source": [
    "# Simple DC Power Flow Example\n",
    "This notebook solves a simple 4-bus DC power flow problem. This example follows pages 19-23 of the notes <a href=\"https://home.engineering.iastate.edu/~jdm/ee458_2011/PowerFlowEquations.pdf\">here</a> but the network is different. Given a bus admittance matrix and nodal power injections, it solves for power flows on each branch of the network."
   ]
  },
  {
   "cell_type": "markdown",
   "id": "08a070c1-78c1-44ac-a467-44d639598440",
   "metadata": {},
   "source": [
    "## DC Power Flow Background\n",
    "The simplifying assumptions used for DC (or linearized) power flows are described <a href=\"https://www.engineering.iastate.edu/~jdm/ee553/DCPowerFlowEquations.pdf\">here</a> and page 30 <a href=\"https://faculty.sites.iastate.edu/tesfatsi/archive/econ458/tesfatsion/lmp.AdvancedWPM.ELitvinovWEM301.pdf\">here</a>.\n",
    "\n",
    "To understand these simplifications, start with the AC power flow equations for real and reactive net power injected at each bus $i$:\n",
    "\n",
    "\\begin{gather*}\n",
    "P_{i} =  \\sum_{j=1}^{J}V_{i} V_{j}(G_{ij}cos(\\theta_{i} - \\theta_{j}) + B_{ij}sin(\\theta_{i} - \\theta_{j}))\\\\\n",
    "Q_{i} = \\sum_{j=1}^{J}V_{i} V_{j}(G_{ij}sin(\\theta_{i} - \\theta_{j}) - B_{ij}cos(\\theta_{i} - \\theta_{j}))\\\\\n",
    "i = 1,2,...,N\n",
    "\\end{gather*}\n",
    "where\n",
    "\n",
    "$P_{i}$ and $Q_{i}$ are the real and reactive power, respectively, injected at bus $i$\n",
    "\n",
    "$V_{i}$ and $\\theta_{i}$ are the voltage magnitude and phase angle, respectively, at bus $i$\n",
    "\n",
    "$G_{ij}$ and $B_{ij}$ are the conductance and susceptance, respectively, of the branch between buses $i$ and $j$\n",
    "\n",
    "For derivation of the equations, see pages 18-20 of the lecture notes <a href=\"https://web.engr.oregonstate.edu/~webbky/ESE470_files/Section%205%20Power%20Flow.pdf\">here</a> or Glover and Sarma's Power System Analysis and Design, third edition, pages 280-281.\n",
    "\n",
    "DC power flow modeling makes three simplifying assumptions:\n",
    "  1. Voltage magnitudes ($V_{i}$) at all buses are the same ($V_{i}=V_{j}=...=V_{N}=1$)\n",
    "  2. Resistance of all branches are zero, so conductance $G_{ij} = 0$ for every branch $ij$\n",
    "  3. The voltage phase angle differences are small, such that $sin(\\theta_{i} - \\theta_{j})  \\approx  \\theta_{i} - \\theta_{j}$\n",
    "\n",
    "The real power flow net injection equations become a linear function of the susceptances ($B$) and voltage phase angles ($\\theta$):\n",
    "\\begin{gather*}\n",
    "P_{i} =  \\sum_{j=1}^{J}B_{ij}(\\theta_{i} - \\theta_{j})\\\\\n",
    "i = 1,2,...,N\n",
    "\\end{gather*}"
   ]
  },
  {
   "cell_type": "code",
   "execution_count": 1,
   "id": "cd9495b7-5c04-4848-82c1-b3e3b44c3fc8",
   "metadata": {},
   "outputs": [],
   "source": [
    "# load packages\n",
    "import matplotlib.pyplot as plt\n",
    "import matplotlib.patches as patches\n",
    "from matplotlib.path import Path\n",
    "import pandas as pd\n",
    "import numpy as np\n",
    "from functools import reduce\n",
    "import functions_4bus # load function for dispatch network"
   ]
  },
  {
   "cell_type": "code",
   "execution_count": 3,
   "id": "14d75811-3565-4c31-85bf-bee998345cee",
   "metadata": {},
   "outputs": [
    {
     "data": {
      "image/png": "[encoded data removed]",
      "text/plain": [
       "<Figure size 640x480 with 1 Axes>"
      ]
     },
     "metadata": {},
     "output_type": "display_data"
    }
   ],
   "source": [
    "# inputs\n",
    "# input admittances for the tranmission lines\n",
    "admittances_input = {(1,2):1j*-10,(1,3):1j*-10,(1,4):1j*-10,(2,4):1j*-10,(3,4):1j*-10}\n",
    "# power injections at each bus\n",
    "pwr_inj = np.array([3,1,-2,-2])\n",
    "branches_M = len(admittances_input)\n",
    "nodes_N = len(pwr_inj)\n",
    "# show the network\n",
    "functions_4bus.create_fig_4bus(fig_inj=dict(enumerate(pwr_inj,start=1)))"
   ]
  },
  {
   "cell_type": "markdown",
   "id": "a130f736-1400-4e76-adfc-e726a190f289",
   "metadata": {},
   "source": [
    "## Build the Admittance Matrix"
   ]
  },
  {
   "cell_type": "markdown",
   "id": "63d658e9-c30f-4b56-85cf-4e27bc596cb6",
   "metadata": {},
   "source": [
    "The Y-bus matrix is an 4x4 matrix of bus admittances. The shunt admittances equal zero in this example, so the terms $b_{1}$, $b_{2}$, $b_{3}$, and $b_{4}$ are set to zero.\n",
    "\\begin{equation}\n",
    "Y = j\\begin{bmatrix}\n",
    "B_{11} & B_{12} & B_{13} & B_{14} \\\\\n",
    "B_{21} & B_{22} & B_{23} & B_{24}  \\\\\n",
    "B_{31} & B_{32} & B_{33} & B_{34}  \\\\\n",
    "B_{14} & B_{24} & B_{34} & B_{44}  \\\\\n",
    "\\end{bmatrix}\n",
    "\\end{equation}\n",
    "\\begin{equation}\n",
    "=j\\begin{bmatrix}\n",
    "b_{1}+b_{12}+b_{13}+b_{14} & -b_{12} & -b_{13} & -b_{14} \\\\\n",
    "-b_{21} & b_{2}+b_{21}+b_{23}+b_{24} & -b_{23} & -b_{24}  \\\\\n",
    "-b_{31} & -b_{32} & b_{3}+b_{31}+b_{32}+b_{34} & -b_{34}  \\\\\n",
    "-b_{14} & -b_{24} & -b_{34} & b_{4}+b_{41}+b_{42}+b_{43}  \\\\\n",
    "\\end{bmatrix}\n",
    "\\end{equation}\n",
    "\\begin{equation}\n",
    "=j\\begin{bmatrix}\n",
    "-30 & 10 & 10 & 10 \\\\\n",
    "10 & -20 & 10 & 0 \\\\\n",
    "10 & 10 & -30 & 10  \\\\\n",
    "10& 0 & 10 & -20  \\\\\n",
    "\\end{bmatrix}\n",
    "\\end{equation}"
   ]
  },
  {
   "cell_type": "code",
   "execution_count": 5,
   "id": "9e5666e1-f887-4b15-81e3-2c156a4423b5",
   "metadata": {},
   "outputs": [],
   "source": [
    "# build the addmittance matrix\n",
    "Admittance_matrix = np.zeros((nodes_N,nodes_N))\n",
    "for i in range(nodes_N):\n",
    "    for j in range(nodes_N):\n",
    "        if i==j: \n",
    "            for k in range(len(admittances_input)):\n",
    "                if (min(i+1,k+1),max(i+1,k+1)) in admittances_input:\n",
    "                    Admittance_matrix[i,j] += np.imag(admittances_input[(min(i+1,k+1),max(i+1,k+1))])\n",
    "        elif (min(i+1,j+1),max(i+1,j+1)) in admittances_input: Admittance_matrix[i,j] = -1*np.imag(admittances_input[(min(i+1,j+1),max(i+1,j+1))])           "
   ]
  },
  {
   "cell_type": "markdown",
   "id": "a8d646de-0ff2-4284-a6bf-2a5bfd978ad9",
   "metadata": {},
   "source": [
    "## Get the B-prime Matrix"
   ]
  },
  {
   "cell_type": "code",
   "execution_count": 7,
   "id": "0c4bf05d-8067-43b6-9d14-3f0a454055a5",
   "metadata": {},
   "outputs": [
    {
     "name": "stdout",
     "output_type": "stream",
     "text": [
      "[[ 20.  -0. -10.]\n",
      " [ -0.  20. -10.]\n",
      " [-10. -10.  30.]]\n"
     ]
    }
   ],
   "source": [
    "# Multiply the Amittances matrix by -1 (because shunt terms are zero we don't have to subtract them first)\n",
    "B_matrix = -1*Admittance_matrix\n",
    "# drop the first row and column- making bus 1 the reference bus\n",
    "B_prime_matrix = B_matrix[1:,1:]\n",
    "print(B_prime_matrix)"
   ]
  },
  {
   "cell_type": "markdown",
   "id": "5955ee28-6a51-47c9-afa0-93beba960f0d",
   "metadata": {},
   "source": [
    "## Find the Theta Values"
   ]
  },
  {
   "cell_type": "markdown",
   "id": "dd203d70-88e4-4538-9ee2-ddccc4f85779",
   "metadata": {},
   "source": [
    "We can use the DC power flow equation\n",
    "\\begin{equation*}\n",
    "P = B^{'}\\theta\n",
    "\\end{equation*}\n",
    "and rearrange to solve for the voltage phase angles $\\theta$:\n",
    "\\begin{equation*}\n",
    "B^{'-1}P = B^{'-1}B^{'}\\theta\n",
    "\\end{equation*}\n",
    "\\begin{equation*}\n",
    "\\theta = B^{'-1}P\n",
    "\\end{equation*}"
   ]
  },
  {
   "cell_type": "code",
   "execution_count": 9,
   "id": "c83f84c1-02d3-437f-8d8e-b2297a734773",
   "metadata": {},
   "outputs": [
    {
     "data": {
      "text/plain": [
       "array([-0.0125, -0.1625, -0.125 ])"
      ]
     },
     "execution_count": 9,
     "metadata": {},
     "output_type": "execute_result"
    }
   ],
   "source": [
    "theta = np.matmul(np.linalg.inv(B_prime_matrix),pwr_inj[1:])\n",
    "theta"
   ]
  },
  {
   "cell_type": "markdown",
   "id": "966d6a9c-d465-41ad-a425-d76546f6fa7d",
   "metadata": {},
   "source": [
    "## Solve for Power Flows"
   ]
  },
  {
   "cell_type": "markdown",
   "id": "2d766979-48e3-48d1-988d-be064bbbfd98",
   "metadata": {},
   "source": [
    "Power flow from bus i to bus K can be solved using the Y-bus matrix and the theta values (phase angles):\n",
    "\\begin{equation*}\n",
    "P_{ik} = B_{ik}(\\theta_{i} - \\theta_{k})\n",
    "\\end{equation*}"
   ]
  },
  {
   "cell_type": "code",
   "execution_count": 11,
   "id": "d444ec2d-ce12-48e3-b6a7-092f25af9108",
   "metadata": {},
   "outputs": [
    {
     "name": "stdout",
     "output_type": "stream",
     "text": [
      "{(1, 2): 0.125, (1, 3): 1.625, (1, 4): 1.25, (2, 4): 1.125, (3, 4): -0.375}\n"
     ]
    }
   ],
   "source": [
    "# solve for power flows- values are in p.u.\n",
    "pwr_flows = {}\n",
    "for i in admittances_input:\n",
    "    if i[0]==1:\n",
    "        pwr_flows[i[0],i[1]] = round(B_matrix[i[0]-1,i[1]-1]*theta[i[1]-2],3)  \n",
    "    else: pwr_flows[i[0],i[1]] = round(B_matrix[i[0]-1,i[1]-1]*(theta[i[1]-2]-theta[i[0]-2]),3)\n",
    "print(pwr_flows)"
   ]
  },
  {
   "cell_type": "code",
   "execution_count": 13,
   "id": "a726d3fb-b1e6-43c3-a6c4-bc94fceb31b2",
   "metadata": {},
   "outputs": [
    {
     "data": {
      "image/png": "[encoded data removed]",
      "text/plain": [
       "<Figure size 640x480 with 1 Axes>"
      ]
     },
     "metadata": {},
     "output_type": "display_data"
    }
   ],
   "source": [
    "functions_4bus.create_fig_4bus(fig_pf = pwr_flows,fig_inj=dict(enumerate(pwr_inj,start=1)))\n",
    "# flows are shown from lowered numbered bus to higher numbered bus\n",
    "# so 0.125 on the line between buses 1 & 2 means 0.125 is flowing from bus 1 to 2\n",
    "# and -0.375 on hte line between buses 3 and 4 means 0.375 is flowing from 4 to 3"
   ]
  },
  {
   "cell_type": "markdown",
   "id": "151494b5-615d-414b-a6d9-d8e2d58a80cc",
   "metadata": {},
   "source": [
    "## Power Transfer Distribution Factors (PTDFs)\n",
    "PTDFs indicate the change in power flow on a branch in response to a 1 MW injection of power at one bus and 1 MW withdraw at another bus. Here we will have the injection at the slack bus (bus #1 in this exampe). \n",
    "\n",
    "See the lecture notes <a href=\"https://www.engineering.iastate.edu/~jdm/ee553/DCPowerFlowEquations.pdf\">here</a> for details.\n",
    "\n",
    "The vector containing the PTDFs can be calculated as follows:\n",
    "\\begin{equation*}\n",
    "\\textbf{PTDF} = \\textbf{DA}[\\textbf{B}']^{-1}\\Delta \\textbf{P}\n",
    "\\end{equation*}\n",
    "where\n",
    "$\\textbf{D}$ is an MxM matrix that has the negative susceptances on the diagonal,\n",
    "\n",
    "$\\textbf{A}$ is an M x (N-1) node-arc incidence matrix with values 1 and -1 indicating which nodes are at the sending and receiving end of each branch, and\n",
    "\n",
    "$\\Delta \\textbf{P}$ is a N-1 vector with all zeros except for a value 1 for the node with the incremental injection and -1 for the withdrawal"
   ]
  },
  {
   "cell_type": "code",
   "execution_count": 15,
   "id": "dfe8215d-500c-4b24-8c0b-d9e2ae3e9224",
   "metadata": {},
   "outputs": [],
   "source": [
    "D = np.diag(-np.fromiter(admittances_input.values(),dtype=complex).imag)\n",
    "A = np.zeros((branches_M,nodes_N))\n",
    "for i,a in enumerate(admittances_input,start=1):\n",
    "    A[i-1,a[0]-1] = 1\n",
    "    A[i-1,a[1]-1] = -1\n",
    "A = A[:,1:] # remove column 1 because it is the slack bus\n",
    "dP = np.array([1,0,0])"
   ]
  },
  {
   "cell_type": "code",
   "execution_count": 17,
   "id": "c81126e6-27b8-4328-97af-f77eebc520dd",
   "metadata": {},
   "outputs": [
    {
     "name": "stdout",
     "output_type": "stream",
     "text": [
      "PTDF values for +1 net injection at bus 3 and -1 net injection at bus 1:\n",
      " [-0.625 -0.125 -0.25   0.375 -0.125]\n"
     ]
    }
   ],
   "source": [
    "PTDF = reduce(np.matmul,[D,A,np.linalg.inv(B_prime_matrix),dP])\n",
    "print('PTDF values for +1 net injection at bus 3 and -1 net injection at bus 1:\\n',PTDF)"
   ]
  }
 ],
 "metadata": {
  "kernelspec": {
   "display_name": "Python 3 (ipykernel)",
   "language": "python",
   "name": "python3"
  },
  "language_info": {
   "codemirror_mode": {
    "name": "ipython",
    "version": 3
   },
   "file_extension": ".py",
   "mimetype": "text/x-python",
   "name": "python",
   "nbconvert_exporter": "python",
   "pygments_lexer": "ipython3",
   "version": "3.12.3"
  }
 },
 "nbformat": 4,
 "nbformat_minor": 5
}
