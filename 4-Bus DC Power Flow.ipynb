{
 "cells": [
  {
   "cell_type": "markdown",
   "id": "8d190490-c019-4d5e-9497-12705ab752a9",
   "metadata": {},
   "source": [
    "# Simple DC Power Flow Example\n",
    "This notebook solves a simple 4-bus DC power flow problem. This example follows pages 19-23 of the notes <a href=\"https://home.engineering.iastate.edu/~jdm/ee458_2011/PowerFlowEquations.pdf\">here</a> but the network is different. Given a bus admittance matrix and nodal power injections, it solves for power flows on each branch of the network."
   ]
  },
  {
   "cell_type": "code",
   "execution_count": 1,
   "id": "cd9495b7-5c04-4848-82c1-b3e3b44c3fc8",
   "metadata": {},
   "outputs": [],
   "source": [
    "# load packages\n",
    "import matplotlib.pyplot as plt\n",
    "import matplotlib.patches as patches\n",
    "from matplotlib.path import Path\n",
    "import pandas as pd\n",
    "import numpy as np"
   ]
  },
  {
   "cell_type": "code",
   "execution_count": 2,
   "id": "b7ea9a81-69b0-4f4d-a747-c506ca64dc65",
   "metadata": {},
   "outputs": [
    {
     "data": {
      "image/png": "[encoded data removed]",
      "text/plain": [
       "<Figure size 640x480 with 1 Axes>"
      ]
     },
     "metadata": {},
     "output_type": "display_data"
    }
   ],
   "source": [
    "# create diagram of 4-bus network\n",
    "# function to add generator bus\n",
    "def add_gen_bus(x,y,axis,n,pu):\n",
    "    circle = patches.Circle((x,y+.08),0.08,fill=False)\n",
    "    line = Path([(x,y),(x,y-0.09)],[Path.MOVETO, Path.LINETO])\n",
    "    line_patch = patches.PathPatch(line,facecolor='black',lw=2)\n",
    "    bar = Path([(x-0.12,y-0.11),(x+0.17,y-0.11)],[Path.MOVETO, Path.LINETO])\n",
    "    bar_patch = patches.PathPatch(bar,facecolor='black',lw=4)\n",
    "    axis.annotate('G',xy=(x-0.02,y+0.06), fontsize=8)\n",
    "    axis.annotate(n,xy=(x+0.12,y-0.06), fontsize=8)\n",
    "    axis.annotate(pu,xy=(x+0.1,y+.1), fontsize=8,color='green')\n",
    "    ps = [circle,line_patch,bar_patch]\n",
    "    [axis.add_patch(p) for p in ps]\n",
    "    return\n",
    "# function to add load bus\n",
    "def add_load_bus(x,y,axis,n,pu):\n",
    "    bar = Path([(x-0.12,y),(x+0.17,y)],[Path.MOVETO, Path.LINETO])\n",
    "    bar_patch = patches.PathPatch(bar,facecolor='black',lw=4)\n",
    "    arrow = patches.Arrow(x+0.025,y,0,-0.15, width=0.04,color='black')\n",
    "    axis.annotate(n,xy=(x+0.12,y-0.07), fontsize=8)\n",
    "    axis.annotate(pu,xy=(x-.04,y-.2), fontsize=8,color='red')\n",
    "    ps = [bar_patch,arrow]\n",
    "    [axis.add_patch(p) for p in ps]\n",
    "    return\n",
    "# transmission lines \n",
    "verts = [(0.4,1.6),(0.4,1.5),(1.65,1.5),(1.65,1.6),\n",
    "        (1.8,1.6),(1.8,0.3),(1.65,0.3),(1.65,0.4),\n",
    "        (0.4,0.4),(0.4,0.3), (0.3,0.3),(0.25,0.3),\n",
    "        (0.25,1.6), (0.32,1.6), (0.32,1.3), (1.75,0.5),\n",
    "        (1.75,0.3)]\n",
    "codes = [Path.MOVETO, Path.LINETO, Path.LINETO, Path.LINETO,\n",
    "         Path.MOVETO, Path.LINETO, Path.MOVETO, Path.LINETO,\n",
    "         Path.LINETO, Path.LINETO, Path.LINETO, Path.MOVETO,\n",
    "         Path.LINETO, Path.MOVETO, Path.LINETO, Path.LINETO,\n",
    "         Path.LINETO]\n",
    "tx_lines = patches.PathPatch(Path(verts,codes),facecolor='none')\n",
    "# build figure\n",
    "fig, ax = plt.subplots()\n",
    "add_gen_bus(x=0.3,y=1.7,axis=ax,n=1,pu=3)\n",
    "add_gen_bus(x=1.7,y=1.7,axis=ax,n=2, pu=1)\n",
    "add_load_bus(x=0.3,y=0.3,axis=ax,n=3,pu=-2)\n",
    "add_load_bus(x=1.7,y=0.3,axis=ax,n=4,pu=-2)\n",
    "ax.add_patch(tx_lines)\n",
    "ax.set_xlim(0,2)\n",
    "ax.set_ylim(0,2)\n",
    "ax.axis('off')\n",
    "plt.show()"
   ]
  },
  {
   "cell_type": "code",
   "execution_count": 3,
   "id": "14d75811-3565-4c31-85bf-bee998345cee",
   "metadata": {},
   "outputs": [],
   "source": [
    "# inputs\n",
    "# input admittances for the tranmission lines\n",
    "admittances_input = {(1,2):1j*-10,(1,3):1j*-10,(1,4):1j*-10,(2,3):0,(2,4):1j*-10,(3,4):1j*-10}\n",
    "# power injections at each bus\n",
    "pwr_inj = np.array([3,1,-2,-2])"
   ]
  },
  {
   "cell_type": "markdown",
   "id": "a130f736-1400-4e76-adfc-e726a190f289",
   "metadata": {},
   "source": [
    "## Build the Admittance Matrix"
   ]
  },
  {
   "cell_type": "markdown",
   "id": "63d658e9-c30f-4b56-85cf-4e27bc596cb6",
   "metadata": {},
   "source": [
    "The Y-bus matrix is an 4x4 matrix of bus admittances. The shunt admittances equal zero in this example, so the terms $b_{1}$, $b_{2}$, $b_{3}$, and $b_{4}$ are set to zero.\n",
    "\\begin{equation}\n",
    "Y = j\\begin{bmatrix}\n",
    "B_{11} & B_{12} & B_{13} & B_{14} \\\\\n",
    "B_{21} & B_{22} & B_{23} & B_{24}  \\\\\n",
    "B_{31} & B_{32} & B_{33} & B_{34}  \\\\\n",
    "B_{14} & B_{24} & B_{34} & B_{44}  \\\\\n",
    "\\end{bmatrix}\n",
    "\\end{equation}\n",
    "\\begin{equation}\n",
    "=j\\begin{bmatrix}\n",
    "b_{1}+b_{12}+b_{13}+b_{14} & -b_{12} & -b_{13} & -b_{14} \\\\\n",
    "-b_{21} & b_{2}+b_{21}+b_{23}+b_{24} & -b_{23} & -b_{24}  \\\\\n",
    "-b_{31} & -b_{32} & b_{3}+b_{31}+b_{32}+b_{34} & -b_{34}  \\\\\n",
    "-b_{14} & -b_{24} & -b_{34} & b_{4}+b_{41}+b_{42}+b_{43}  \\\\\n",
    "\\end{bmatrix}\n",
    "\\end{equation}\n",
    "\\begin{equation}\n",
    "=j\\begin{bmatrix}\n",
    "-30 & 10 & 10 & 10 \\\\\n",
    "10 & -20 & 10 & 0 \\\\\n",
    "10 & 10 & -30 & 10  \\\\\n",
    "10& 0 & 10 & -20  \\\\\n",
    "\\end{bmatrix}\n",
    "\\end{equation}"
   ]
  },
  {
   "cell_type": "code",
   "execution_count": 4,
   "id": "9e5666e1-f887-4b15-81e3-2c156a4423b5",
   "metadata": {},
   "outputs": [],
   "source": [
    "# build the addmittance matrix\n",
    "Admittance_matrix = np.zeros((4,4))\n",
    "for i in range(4):\n",
    "    for j in range(4):\n",
    "        if i==j: \n",
    "            for k in range(len(admittances_input)):\n",
    "                if (min(i+1,k+1),max(i+1,k+1)) in admittances_input:\n",
    "                    Admittance_matrix[i,j] += np.imag(admittances_input[(min(i+1,k+1),max(i+1,k+1))])\n",
    "        else: Admittance_matrix[i,j] = -1*np.imag(admittances_input[(min(i+1,j+1),max(i+1,j+1))])           "
   ]
  },
  {
   "cell_type": "markdown",
   "id": "a8d646de-0ff2-4284-a6bf-2a5bfd978ad9",
   "metadata": {},
   "source": [
    "## Get the B-prime Matrix"
   ]
  },
  {
   "cell_type": "code",
   "execution_count": 5,
   "id": "0c4bf05d-8067-43b6-9d14-3f0a454055a5",
   "metadata": {},
   "outputs": [
    {
     "name": "stdout",
     "output_type": "stream",
     "text": [
      "[[ 20.  -0. -10.]\n",
      " [ -0.  20. -10.]\n",
      " [-10. -10.  30.]]\n"
     ]
    }
   ],
   "source": [
    "# Multiply the Amittances matrix by -1 (because shunt terms are zero we don't have to subtract them first)\n",
    "B_matrix = -1*Admittance_matrix\n",
    "# drop the first row and column- making bus 1 the reference bus\n",
    "B_prime_matrix = B_matrix[1:,1:]\n",
    "print(B_prime_matrix)"
   ]
  },
  {
   "cell_type": "markdown",
   "id": "5955ee28-6a51-47c9-afa0-93beba960f0d",
   "metadata": {},
   "source": [
    "## Find the Theta Values"
   ]
  },
  {
   "cell_type": "markdown",
   "id": "dd203d70-88e4-4538-9ee2-ddccc4f85779",
   "metadata": {},
   "source": [
    "We can use the DC power flow equation\n",
    "\\begin{equation*}\n",
    "P = B^{'}\\theta\n",
    "\\end{equation*}\n",
    "and rearrange to solve for $\\theta$ values of phases angles:\n",
    "\\begin{equation*}\n",
    "B^{'-1}P = B^{'-1}B^{'}\\theta\n",
    "\\end{equation*}\n",
    "\\begin{equation*}\n",
    "\\theta = B^{'-1}P\n",
    "\\end{equation*}"
   ]
  },
  {
   "cell_type": "code",
   "execution_count": 6,
   "id": "c83f84c1-02d3-437f-8d8e-b2297a734773",
   "metadata": {},
   "outputs": [
    {
     "data": {
      "text/plain": [
       "array([-0.0125, -0.1625, -0.125 ])"
      ]
     },
     "execution_count": 6,
     "metadata": {},
     "output_type": "execute_result"
    }
   ],
   "source": [
    "theta = np.matmul(np.linalg.inv(B_prime_matrix),pwr_inj[1:])\n",
    "theta"
   ]
  },
  {
   "cell_type": "markdown",
   "id": "966d6a9c-d465-41ad-a425-d76546f6fa7d",
   "metadata": {},
   "source": [
    "## Solve for Power Flows"
   ]
  },
  {
   "cell_type": "markdown",
   "id": "2d766979-48e3-48d1-988d-be064bbbfd98",
   "metadata": {},
   "source": [
    "Power flow from bus i to bus K can be solved using the Y-bus matrix and the theta values (phase angles):\n",
    "\\begin{equation*}\n",
    "P_{ik} = B_{ik}(\\theta_{i} - \\theta_{k})\n",
    "\\end{equation*}"
   ]
  },
  {
   "cell_type": "code",
   "execution_count": 7,
   "id": "d444ec2d-ce12-48e3-b6a7-092f25af9108",
   "metadata": {},
   "outputs": [
    {
     "name": "stdout",
     "output_type": "stream",
     "text": [
      "{(1, 2): 0.12500000000000006, (1, 3): 1.625, (1, 4): 1.25, (2, 3): 0.0, (2, 4): 1.125, (3, 4): -0.37500000000000006}\n"
     ]
    }
   ],
   "source": [
    "# solve for power flows- values are in p.u.\n",
    "pwr_flows = {}\n",
    "for i in admittances_input:\n",
    "    if i[0]==1:\n",
    "        pwr_flows[i[0],i[1]] = B_matrix[i[0]-1,i[1]-1]*theta[i[1]-2]  \n",
    "    else: pwr_flows[i[0],i[1]] = B_matrix[i[0]-1,i[1]-1]*(theta[i[1]-2]-theta[i[0]-2])\n",
    "print(pwr_flows)"
   ]
  },
  {
   "cell_type": "code",
   "execution_count": 8,
   "id": "1766b95a-d6f0-4b79-a7e1-0a5be1f5cb52",
   "metadata": {},
   "outputs": [
    {
     "data": {
      "image/png": "[encoded data removed]",
      "text/plain": [
       "<Figure size 640x480 with 1 Axes>"
      ]
     },
     "metadata": {},
     "output_type": "display_data"
    }
   ],
   "source": [
    "# build figure with power flows\n",
    "pf_lab_pos = {(1,2):(1,1.55),(1,3):(0.1,1),(1,4):(1,0.95),(2,3):(0,0),(2,4):(1.85,1),(3,4):(1,0.3)}\n",
    "fig2, ax2 = plt.subplots()\n",
    "add_gen_bus(x=0.3,y=1.7,axis=ax2,n=1,pu=3)\n",
    "add_gen_bus(x=1.7,y=1.7,axis=ax2,n=2,pu=1)\n",
    "add_load_bus(x=0.3,y=0.3,axis=ax2,n=3,pu=-2)\n",
    "add_load_bus(x=1.7,y=0.3,axis=ax2,n=4,pu=-2)\n",
    "tx_lines2 = patches.PathPatch(Path(verts,codes),facecolor='none')\n",
    "for i in pwr_flows:\n",
    "    ax2.annotate(round(pwr_flows[i],3),xy=pf_lab_pos[i],fontsize=8)\n",
    "ax2.add_patch(tx_lines2)\n",
    "ax2.set_xlim(0,2)\n",
    "ax2.set_ylim(0,2)\n",
    "ax2.axis('off')\n",
    "plt.show()\n",
    "# flows are shown from lowered numbered bus to higher numbered bus\n",
    "# so 0.125 on the line between buses 1 & 2 means 0.125 is flowing from bus 1 to 2\n",
    "# and -0.375 on hte line between buses 3 and 4 means 0.375 is flowing from 4 to 3"
   ]
  }
 ],
 "metadata": {
  "kernelspec": {
   "display_name": "Python 3 (ipykernel)",
   "language": "python",
   "name": "python3"
  },
  "language_info": {
   "codemirror_mode": {
    "name": "ipython",
    "version": 3
   },
   "file_extension": ".py",
   "mimetype": "text/x-python",
   "name": "python",
   "nbconvert_exporter": "python",
   "pygments_lexer": "ipython3",
   "version": "3.12.4"
  }
 },
 "nbformat": 4,
 "nbformat_minor": 5
}
