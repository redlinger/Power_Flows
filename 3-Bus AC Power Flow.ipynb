{
 "cells": [
  {
   "cell_type": "markdown",
   "id": "8d190490-c019-4d5e-9497-12705ab752a9",
   "metadata": {},
   "source": [
    "# Simple 3-Bus AC Power Flow Example\n",
    "This notebook solves a simple 3-bus AC power flow problem. This example follows the Newton-Raphson method described in pages 106-123 of the lecture notes <a href=\"https://web.engr.oregonstate.edu/~webbky/ESE470_files/Section%205%20Power%20Flow.pdf\">here</a>."
   ]
  },
  {
   "cell_type": "code",
   "execution_count": 1,
   "id": "cd9495b7-5c04-4848-82c1-b3e3b44c3fc8",
   "metadata": {},
   "outputs": [],
   "source": [
    "# load packages\n",
    "import matplotlib.pyplot as plt\n",
    "import matplotlib.patches as patches\n",
    "from matplotlib.path import Path\n",
    "import functions_3bus # load function for network\n",
    "import pandas as pd\n",
    "import numpy as np\n",
    "import math\n",
    "import cmath\n",
    "import jax\n",
    "import jax.numpy as jnp"
   ]
  },
  {
   "cell_type": "markdown",
   "id": "1492dc63-e7c3-45f2-8c20-befe2b071acf",
   "metadata": {},
   "source": [
    "### Power Flow Background\n",
    "The goal here is to solve for the unknowns in the power flow equations for each bus $i$ in an $N$-bus network:\n",
    "\\begin{gather*}\n",
    "P_{i} = V_{i} \\sum_{j=1}^{J} Y_{ij} V_{j} cos(\\delta_{i} - \\delta_{j} - \\theta_{ij})\\\\\n",
    "Q_{i} = V_{i} \\sum_{j=1}^{J} Y_{ij} V_{j} sin(\\delta_{i} - \\delta_{j} - \\theta_{ij})\\\\\n",
    "i = 1,2,...,N\n",
    "\\end{gather*}\n",
    "where\n",
    "\n",
    "$P_{i}$ and $Q_{i}$ are the real and reactive power, respectively, injected at bus $i$\n",
    "\n",
    "$V_{i}$ and $\\delta_{i}$ are the voltage magintude and phase angle, respectively, at bus $i$\n",
    "\n",
    "$Y_{ij}$ and $\\theta_{ij}$ are the admittance magnitude and angle, respectively, of the branch between buses $i$ and $j$\n",
    "\n",
    "For derivation of the equations, see pages 18-20 of the lecture notes <a href=\"https://web.engr.oregonstate.edu/~webbky/ESE470_files/Section%205%20Power%20Flow.pdf\">here</a> or Glover and Sarma's Power System Analysis and Design, third edition, pages 280-281.\n",
    "\n",
    "Each bus has four quantities: $P$, $Q$, $V$, and $\\delta$. Depending on the bus type, these quantities are known or unknown. Generator buses are PV buses, where the real power (P) and voltage magnitude (V) are known and the reactive power (Q) and voltage phase angle ($\\delta$) are unknown. Load buses are PQ buses, where real power (P) and reactive power (Q) are known and the voltage magnitude (V) voltage phase angle ($\\delta$) are unknown. The slack bus (typically a generator) is used to balance power flows on the network, and the voltage magnitude and phase angle are set at $1.0\\angle0\\degree$\n",
    "\n",
    "| Bus Type | Knowns | Unknowns |\n",
    "|----------|--------|----------|\n",
    "| Slack | V, $\\delta$ | P,Q |\n",
    "| PV | P,V | Q, $\\delta$ |\n",
    "| PQ | P,Q | V, $\\delta$ |\n",
    "\n",
    "\n"
   ]
  },
  {
   "cell_type": "markdown",
   "id": "7c87157a-e6ad-4f4a-aec0-94a61ff51141",
   "metadata": {},
   "source": [
    "## Network\n",
    "The network has 3 buses: bus 1 is the slack bus, bus 2 is a PV bus, and bus 3 is a PQ bus. The diagram for the network is shown below."
   ]
  },
  {
   "cell_type": "code",
   "execution_count": 3,
   "id": "25dbd189-343b-402e-b10b-c02d41832673",
   "metadata": {},
   "outputs": [
    {
     "data": {
      "image/png": "[encoded data removed]",
      "text/plain": [
       "<Figure size 640x480 with 1 Axes>"
      ]
     },
     "metadata": {},
     "output_type": "display_data"
    }
   ],
   "source": [
    "functions_3bus.create_fig_3bus(np.empty(3,dtype='object'))"
   ]
  },
  {
   "cell_type": "markdown",
   "id": "a130f736-1400-4e76-adfc-e726a190f289",
   "metadata": {},
   "source": [
    "## Build the Admittance Matrix"
   ]
  },
  {
   "cell_type": "code",
   "execution_count": 5,
   "id": "14d75811-3565-4c31-85bf-bee998345cee",
   "metadata": {},
   "outputs": [],
   "source": [
    "# input admittances for the tranmission lines\n",
    "# here we have no shunt admittances\n",
    "admittances_input = {(1,2):2.06-1j*20.9,(1,3):1.54-1j*15.7,(2,3):2.06-1j*20.9}\n",
    "# build the admittance matrix Y, where I = YV\n",
    "Y = np.zeros((3,3), dtype=complex)\n",
    "for i in range(3):\n",
    "    for j in range(3):\n",
    "        if i==j: \n",
    "            for k in range(len(admittances_input)):\n",
    "                if (min(i+1,k+1),max(i+1,k+1)) in admittances_input:\n",
    "                    Y[i,j] += admittances_input[(min(i+1,k+1),max(i+1,k+1))]\n",
    "        else: Y[i,j] = -admittances_input[(min(i+1,j+1),max(i+1,j+1))]"
   ]
  },
  {
   "cell_type": "code",
   "execution_count": 7,
   "id": "09b1511b-359c-447f-8ae9-f512cef23b6b",
   "metadata": {},
   "outputs": [
    {
     "name": "stdout",
     "output_type": "stream",
     "text": [
      "Admittance Magnitude:\n",
      " [[36.77662301 21.00127615 15.77534786]\n",
      " [21.00127615 42.0025523  21.00127615]\n",
      " [15.77534786 21.00127615 36.77662301]]\n",
      "Admittance Angle (rad):\n",
      " [[-1.47275105  1.66904358  1.66857271]\n",
      " [ 1.66904358 -1.47254907  1.66904358]\n",
      " [ 1.66857271  1.66904358 -1.47275105]]\n"
     ]
    }
   ],
   "source": [
    "Y_mag = np.abs(Y)\n",
    "print(\"Admittance Magnitude:\\n\", Y_mag)\n",
    "Y_angle =  np.angle(Y)\n",
    "print(\"Admittance Angle (rad):\\n\", Y_angle)"
   ]
  },
  {
   "cell_type": "code",
   "execution_count": 9,
   "id": "3a58946e-b3d1-4acf-955c-267c41f656b4",
   "metadata": {},
   "outputs": [],
   "source": [
    "# admittances magnitudes and phase angles used in Jacobian\n",
    "Y_mag21 = Y_mag[1,0]\n",
    "Y_mag22 = Y_mag[1,1]\n",
    "Y_mag23 = Y_mag[1,2]\n",
    "Y_mag31 = Y_mag[2,0]\n",
    "Y_mag32 = Y_mag[2,1]\n",
    "Y_mag33 = Y_mag[2,2]\n",
    "theta21 = Y_angle[1,0]\n",
    "theta22 = Y_angle[1,1]\n",
    "theta23 = Y_angle[1,2]\n",
    "theta31 = Y_angle[2,0]\n",
    "theta32 = Y_angle[2,1]\n",
    "theta33 = Y_angle[2,2]"
   ]
  },
  {
   "cell_type": "markdown",
   "id": "cdada405-2e09-403c-a329-b8aa9855d241",
   "metadata": {},
   "source": [
    "## Intialize Knowns and Unknowns"
   ]
  },
  {
   "cell_type": "code",
   "execution_count": 11,
   "id": "fe6fd8d9-a2ef-4333-bfec-78eed64634c4",
   "metadata": {},
   "outputs": [],
   "source": [
    "# Knowns\n",
    "V1 = 1.0 # voltage magnitude at bus 1\n",
    "d1 = 0 # phase angle at bus 1\n",
    "P2 = 2.0 # real power net inj at bus 2\n",
    "V2 = 1.05 # voltage magnitude at bus 2\n",
    "P3 = -5.0 # real power net inj at bus 3 \n",
    "Q3 = -1.0 # reactive power net inj at bus \n",
    "\n",
    "# Unknowns\n",
    "d2 = 0 # phase angle at bus 2\n",
    "d3 = 0 # phase angle at bus 3\n",
    "V3 = 1.0 # voltage magnitude at phase 3"
   ]
  },
  {
   "cell_type": "markdown",
   "id": "9a526d0c-287f-4a2d-b5b1-251c3305dd29",
   "metadata": {},
   "source": [
    "## Run algorithm\n",
    "The goal of this algorithm is the find **x** s.t. **f**(**x**) = **y**, where f is the set of nonlinear power equations. It uses the first-order Taylor Series expansion of f about a point x=a to approximate the value of x where f(x) = y. Page 54 <a href=\"https://web.engr.oregonstate.edu/~webbky/ESE470_files/Section%205%20Power%20Flow.pdf\">here</a> has a nice visual representation of this. In each iteration of the alogrithm, check if f(x) is close enough to y, and if it is we are done."
   ]
  },
  {
   "cell_type": "code",
   "execution_count": 13,
   "id": "713299e6-1e10-40d6-afa2-1d93f2b7ef32",
   "metadata": {},
   "outputs": [],
   "source": [
    "# set up algorithm parameters \n",
    "max_itr = 10\n",
    "error_tol = 0.0001\n",
    "itr = 0"
   ]
  },
  {
   "cell_type": "code",
   "execution_count": 15,
   "id": "1cc3f986-f0f9-4ef1-8609-37275a4f3d19",
   "metadata": {},
   "outputs": [],
   "source": [
    "# calculate initial power mismatch\n",
    "V = np.array([V1*math.cos(d1)+1j*V1*math.sin(d1),V2*math.cos(d2)+1j*V2*math.sin(d2),V3*math.cos(d3)+1j*V3*math.sin(d3)]) # voltages\n",
    "I = np.matmul(Y,V) # current injections\n",
    "S = V*np.conjugate(I) # complex power net injections\n",
    "f_x = np.array([S[1].real,S[2].real,S[2].imag]) # calculated power net inj\n",
    "y = np.array([P2,P3,Q3]) # known power net injections\n",
    "dy = y - f_x # power mismatch\n",
    "mismatch = max(np.abs(dy))"
   ]
  },
  {
   "cell_type": "code",
   "execution_count": 17,
   "id": "747593ba-fc94-40b0-b3bd-5497c284795b",
   "metadata": {},
   "outputs": [],
   "source": [
    "# define the nonlinear power flow equations\n",
    "def f(x):\n",
    "    return jnp.array(\n",
    "    [V2*Y_mag21*V1*jnp.cos(x[0]-d1-theta21) + V2*Y_mag23*x[2]*jnp.cos(x[0]-x[1]-theta23)\n",
    "      + V2*Y_mag22*V2*jnp.cos(x[0]-x[0]-theta22),\n",
    "     x[2]*Y_mag31*V1*jnp.cos(x[1]-d1-theta31) + x[2]*Y_mag32*V2*jnp.cos(x[1]-x[0]-theta32)\n",
    "     + x[2]*Y_mag33*x[2]*jnp.cos(x[1]-x[1]-theta33),\n",
    "     x[2]*Y_mag31*V1*jnp.sin(x[1]-d1-theta31) + x[2]*Y_mag32*V2*jnp.sin(x[1]-x[0]-theta32)\n",
    "    + x[2]*Y_mag33*x[2]*jnp.sin(x[1]-x[1]-theta33)])\n",
    "# set initial variables\n",
    "x = jnp.array([d2,d3,V3])"
   ]
  },
  {
   "cell_type": "code",
   "execution_count": 19,
   "id": "e81a0cce-3af2-43ce-858f-5293d8c29a13",
   "metadata": {},
   "outputs": [
    {
     "name": "stdout",
     "output_type": "stream",
     "text": [
      "Iteration  1 Mismatch :  0.31233218578457167\n",
      "Convergence of known power injections:\n",
      " P1:  2.0  vs.  1.979439575521429 \n",
      " P2:  -5.0  vs.  -4.895576058007976 \n",
      " Q2:  -1.0  vs.  -0.6876678142154283\n",
      "Iteration  2 Mismatch :  0.003296136105946479\n",
      "Convergence of known power injections:\n",
      " P1:  2.0  vs.  1.999449832680366 \n",
      " P2:  -5.0  vs.  -4.998477481628849 \n",
      " Q2:  -1.0  vs.  -0.9967038638940535\n",
      "Iteration  3 Mismatch :  1.2660655168694745e-07\n",
      "Convergence of known power injections:\n",
      " P1:  2.0  vs.  1.9999999546961884 \n",
      " P2:  -5.0  vs.  -4.999999929328084 \n",
      " Q2:  -1.0  vs.  -1.0000001266065517\n"
     ]
    }
   ],
   "source": [
    "# while power mismatch is greater than tolerance and \n",
    "# iter count less than max iterations, continue alogrithm\n",
    "while mismatch > error_tol and itr < max_itr:\n",
    "    # compute Jacobian\n",
    "    jac = jax.jacfwd(f)(x)\n",
    "    # solve for delta x: dy = Jdx\n",
    "    dx = np.linalg.solve(jac,dy)\n",
    "    # update x\n",
    "    x = x + dx\n",
    "    V[1] = V2*math.cos(x[0]) + 1j*V2*math.sin(x[0]) # update voltages\n",
    "    V[2] = x[2]*math.cos(x[1]) + 1j*x[2]*math.sin(x[1]) \n",
    "    # calculate power mismatch\n",
    "    I = np.matmul(Y,V) # current injections\n",
    "    S = V*np.conjugate(I) # complex power\n",
    "    f_x = np.array([S[1].real,S[2].real,S[2].imag]) # calculated power inj\n",
    "    dy = y - f_x # mismatch\n",
    "    mismatch = max(np.abs(dy))\n",
    "    print('Iteration ', itr+1, \"Mismatch : \", mismatch)\n",
    "    print('Convergence of known power injections:\\n',\n",
    "     'P1: ', y[0],' vs. ', S[1].real, '\\n',\n",
    "     'P2: ', y[1],' vs. ', S[2].real, '\\n',\n",
    "     'Q2: ', y[2],' vs. ', S[2].imag)\n",
    "    itr = itr + 1"
   ]
  },
  {
   "cell_type": "code",
   "execution_count": 21,
   "id": "6deafd24-596d-4791-97a7-da67fac5a89e",
   "metadata": {},
   "outputs": [],
   "source": [
    "# calculate branch flows- see Wood, Wollenberg, and Sheble (2014) Power Generation, Operation, and Control, 3rd Ed\n",
    "def flw(br,pwr_type='r'):\n",
    "    s = br[0]\n",
    "    r = br[1]\n",
    "    Vs = np.abs(V[s-1])\n",
    "    Vr = np.abs(V[r-1])\n",
    "    Y_mag_sr = Y_mag[s-1,r-1]\n",
    "    theta_sr = Y_angle[s-1,r-1]\n",
    "    dr = np.angle(V[r-1])\n",
    "    ds = np.angle(V[s-1])\n",
    "    if (pwr_type == 'r'):\n",
    "        flw_sr = -Vs*Y_mag_sr*Vs*math.cos(-theta_sr) + Vs*Y_mag_sr*Vr*math.cos(ds-dr-theta_sr)\n",
    "    else: flw_sr = -Vs*Y_mag_sr*Vs*math.sin(-theta_sr) + Vs*Y_mag_sr*Vr*math.sin(ds-dr-theta_sr)\n",
    "    return flw_sr\n",
    "# real and reactive flows\n",
    "bus_links = list(zip(np.array([1,2,1,3,2,3]),np.array([2,1,3,1,3,2])))\n",
    "real_pwr = np.round(list(map(flw,bus_links,'r'*len(bus_links))),3)\n",
    "reactive_pwr = np.round(list(map(flw,bus_links,'q'*len(bus_links))),3)"
   ]
  },
  {
   "cell_type": "markdown",
   "id": "194ee835-7973-4084-8331-352fcb999fff",
   "metadata": {},
   "source": [
    "## Results Summary"
   ]
  },
  {
   "cell_type": "code",
   "execution_count": 23,
   "id": "b4d93b22-a21b-4b07-aa93-d1db180ccca9",
   "metadata": {},
   "outputs": [
    {
     "data": {
      "text/html": [
       "<div>\n",
       "<style scoped>\n",
       "    .dataframe tbody tr th:only-of-type {\n",
       "        vertical-align: middle;\n",
       "    }\n",
       "\n",
       "    .dataframe tbody tr th {\n",
       "        vertical-align: top;\n",
       "    }\n",
       "\n",
       "    .dataframe thead th {\n",
       "        text-align: right;\n",
       "    }\n",
       "</style>\n",
       "<table border=\"1\" class=\"dataframe\">\n",
       "  <thead>\n",
       "    <tr style=\"text-align: right;\">\n",
       "      <th></th>\n",
       "      <th>Bus</th>\n",
       "      <th>Type</th>\n",
       "      <th>Complex Power</th>\n",
       "      <th>Voltage</th>\n",
       "    </tr>\n",
       "  </thead>\n",
       "  <tbody>\n",
       "    <tr>\n",
       "      <th>0</th>\n",
       "      <td>1</td>\n",
       "      <td>Slack</td>\n",
       "      <td>3.083666-0.815480j</td>\n",
       "      <td>1.0∠0.0°</td>\n",
       "    </tr>\n",
       "    <tr>\n",
       "      <th>1</th>\n",
       "      <td>2</td>\n",
       "      <td>PV</td>\n",
       "      <td>2.000000+2.666093j</td>\n",
       "      <td>1.05∠-2.1°</td>\n",
       "    </tr>\n",
       "    <tr>\n",
       "      <th>2</th>\n",
       "      <td>3</td>\n",
       "      <td>PQ</td>\n",
       "      <td>-5.000000-1.000000j</td>\n",
       "      <td>0.978∠-8.8°</td>\n",
       "    </tr>\n",
       "  </tbody>\n",
       "</table>\n",
       "</div>"
      ],
      "text/plain": [
       "   Bus   Type       Complex Power      Voltage\n",
       "0    1  Slack  3.083666-0.815480j     1.0∠0.0°\n",
       "1    2     PV  2.000000+2.666093j   1.05∠-2.1°\n",
       "2    3     PQ -5.000000-1.000000j  0.978∠-8.8°"
      ]
     },
     "execution_count": 23,
     "metadata": {},
     "output_type": "execute_result"
    }
   ],
   "source": [
    "# nodal quantities- complex power injections and bus voltages\n",
    "buses = [1,2,3]\n",
    "bus_type = ['Slack','PV','PQ']\n",
    "\n",
    "# voltages\n",
    "volt_angles = np.char.add(np.round(np.angle(V,deg=True),1).astype(str), '\\u00B0')\n",
    "volt_mag = np.char.add(np.round(np.abs(V),3).astype(str), '\\u2220')\n",
    "vol_polar = np.char.add(volt_mag,volt_angles)\n",
    "bus_df = pd.DataFrame({'Bus':buses,'Type':bus_type, 'Complex Power':S, 'Voltage':vol_polar})\n",
    "bus_df"
   ]
  },
  {
   "cell_type": "code",
   "execution_count": 25,
   "id": "f24287e9-8bd2-4f11-bc4a-aa9bd48da723",
   "metadata": {},
   "outputs": [
    {
     "data": {
      "text/html": [
       "<div>\n",
       "<style scoped>\n",
       "    .dataframe tbody tr th:only-of-type {\n",
       "        vertical-align: middle;\n",
       "    }\n",
       "\n",
       "    .dataframe tbody tr th {\n",
       "        vertical-align: top;\n",
       "    }\n",
       "\n",
       "    .dataframe thead th {\n",
       "        text-align: right;\n",
       "    }\n",
       "</style>\n",
       "<table border=\"1\" class=\"dataframe\">\n",
       "  <thead>\n",
       "    <tr style=\"text-align: right;\">\n",
       "      <th></th>\n",
       "      <th></th>\n",
       "      <th>P</th>\n",
       "      <th>Q</th>\n",
       "    </tr>\n",
       "    <tr>\n",
       "      <th>Line</th>\n",
       "      <th>Bus to Bus</th>\n",
       "      <th></th>\n",
       "      <th></th>\n",
       "    </tr>\n",
       "  </thead>\n",
       "  <tbody>\n",
       "    <tr>\n",
       "      <th rowspan=\"2\" valign=\"top\">A</th>\n",
       "      <th>1 to 2</th>\n",
       "      <td>0.688</td>\n",
       "      <td>-1.109</td>\n",
       "    </tr>\n",
       "    <tr>\n",
       "      <th>2 to 1</th>\n",
       "      <td>-0.680</td>\n",
       "      <td>1.189</td>\n",
       "    </tr>\n",
       "    <tr>\n",
       "      <th rowspan=\"2\" valign=\"top\">B</th>\n",
       "      <th>1 to 3</th>\n",
       "      <td>2.395</td>\n",
       "      <td>0.293</td>\n",
       "    </tr>\n",
       "    <tr>\n",
       "      <th>3 to 1</th>\n",
       "      <td>-2.359</td>\n",
       "      <td>0.074</td>\n",
       "    </tr>\n",
       "    <tr>\n",
       "      <th rowspan=\"2\" valign=\"top\">C</th>\n",
       "      <th>2 to 3</th>\n",
       "      <td>2.680</td>\n",
       "      <td>1.477</td>\n",
       "    </tr>\n",
       "    <tr>\n",
       "      <th>3 to 2</th>\n",
       "      <td>-2.641</td>\n",
       "      <td>-1.074</td>\n",
       "    </tr>\n",
       "  </tbody>\n",
       "</table>\n",
       "</div>"
      ],
      "text/plain": [
       "                     P      Q\n",
       "Line Bus to Bus              \n",
       "A    1 to 2      0.688 -1.109\n",
       "     2 to 1     -0.680  1.189\n",
       "B    1 to 3      2.395  0.293\n",
       "     3 to 1     -2.359  0.074\n",
       "C    2 to 3      2.680  1.477\n",
       "     3 to 2     -2.641 -1.074"
      ]
     },
     "execution_count": 25,
     "metadata": {},
     "output_type": "execute_result"
    }
   ],
   "source": [
    "# branch power flows\n",
    "line = ['A','B','C']\n",
    "bus_to_bus = [('A','1 to 2'), ('A','2 to 1'), ('B','1 to 3'), ('B','3 to 1'), ('C','2 to 3'), ('C','3 to 2')]\n",
    "flow_index = pd.MultiIndex.from_tuples(bus_to_bus, names=['Line','Bus to Bus'])\n",
    "flow_df = pd.DataFrame({'P':real_pwr,'Q':reactive_pwr}, index=flow_index)\n",
    "flow_df\n",
    "# differences between receiving end power and sending end power are line losses"
   ]
  },
  {
   "cell_type": "code",
   "execution_count": 27,
   "id": "5c52472f-6ab4-4ad6-b87f-e0ca92f2bdbc",
   "metadata": {},
   "outputs": [
    {
     "data": {
      "image/png": "[encoded data removed]",
      "text/plain": [
       "<Figure size 640x480 with 1 Axes>"
      ]
     },
     "metadata": {},
     "output_type": "display_data"
    }
   ],
   "source": [
    "functions_3bus.create_fig_3bus(np.round(S,3))"
   ]
  }
 ],
 "metadata": {
  "kernelspec": {
   "display_name": "Python 3 (ipykernel)",
   "language": "python",
   "name": "python3"
  },
  "language_info": {
   "codemirror_mode": {
    "name": "ipython",
    "version": 3
   },
   "file_extension": ".py",
   "mimetype": "text/x-python",
   "name": "python",
   "nbconvert_exporter": "python",
   "pygments_lexer": "ipython3",
   "version": "3.12.3"
  }
 },
 "nbformat": 4,
 "nbformat_minor": 5
}
