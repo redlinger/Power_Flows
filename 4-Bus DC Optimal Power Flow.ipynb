{
 "cells": [
  {
   "cell_type": "markdown",
   "id": "8d190490-c019-4d5e-9497-12705ab752a9",
   "metadata": {},
   "source": [
    "# Simple Economic Dispatch\n",
    "This notebook performs a simple economic dispatch on a 4-bus network with DC power flow. The simplifying assumptions used for DC pwoer flows are described <a href=\"https://www.engineering.iastate.edu/~jdm/ee553/DCPowerFlowEquations.pdf\">here</a> and page 30 <a href=\"https://faculty.sites.iastate.edu/tesfatsi/archive/econ458/tesfatsion/lmp.AdvancedWPM.ELitvinovWEM301.pdf\">here</a>."
   ]
  },
  {
   "cell_type": "code",
   "execution_count": 5,
   "id": "cd9495b7-5c04-4848-82c1-b3e3b44c3fc8",
   "metadata": {},
   "outputs": [],
   "source": [
    "# load packages\n",
    "import matplotlib.pyplot as plt\n",
    "import matplotlib.patches as patches\n",
    "from matplotlib.path import Path\n",
    "import pandas as pd\n",
    "import numpy as np\n",
    "import math\n",
    "import pulp as pulp\n",
    "from itertools import chain\n",
    "import functions_4bus # load function for displatch network"
   ]
  },
  {
   "cell_type": "code",
   "execution_count": 7,
   "id": "f644ee67-c021-4319-a282-42fb8e9cf7a0",
   "metadata": {},
   "outputs": [
    {
     "data": {
      "image/png": "[encoded data removed]",
      "text/plain": [
       "<Figure size 640x480 with 1 Axes>"
      ]
     },
     "metadata": {},
     "output_type": "display_data"
    }
   ],
   "source": [
    "# show the network\n",
    "functions_4bus.create_fig_4bus()"
   ]
  },
  {
   "cell_type": "markdown",
   "id": "9060199c-77fd-436b-b328-27220b056398",
   "metadata": {},
   "source": [
    "## Inputs\n",
    "Inputs for the economic dispatch include the network model (buses, branches, susceptances, flow limits), generator attributes, and loads. Generators can offer up to three segements, each segment is (quantity, price) pair.\n"
   ]
  },
  {
   "cell_type": "code",
   "execution_count": 9,
   "id": "5beadba4-0eb0-4e32-ab1c-419deac80270",
   "metadata": {},
   "outputs": [],
   "source": [
    "#### network inputs ####\n",
    "# list bus ids\n",
    "bus = [1,2,3,4]\n",
    "\n",
    "# braches: (1,2) indicates a branch exist between buses 1 and 2\n",
    "branches = [(1,2),(1,3),(1,4),(2,4),(3,4)]\n",
    "\n",
    "# susceptances of branches\n",
    "susceptances = {(1,2):10,(1,3):10,(1,4):10,(2,4):10,(3,4):10}\n",
    "\n",
    "# branch flow limits\n",
    "flow_limits = {(1,2):300,(1,3):300,(1,4):300,(2,4):300,(3,4):300}\n",
    "\n",
    "# per-unit base is 100 MW\n",
    "pu = 100\n",
    "\n",
    "#### generator inputs ####\n",
    "# generator output limits- (min, max)\n",
    "gen_limits = {\n",
    "    \"A\": (0,300),\n",
    "    \"B\": (0,250)}\n",
    "\n",
    "# generator segments- (quantity, price)\n",
    "gen_segs = {\n",
    "    'A': {\n",
    "        1: (150,20), # seg 1- (incremental quantity, price)\n",
    "        2: (100,25),\n",
    "        3: (50,32)\n",
    "        },\n",
    "    'B': {\n",
    "        1: (100,24),\n",
    "        2: (100,29),\n",
    "        3: (50,34)\n",
    "        }\n",
    "    }\n",
    "\n",
    "# map generators to buses- no more than 1 gen per bus\n",
    "bus_gen = {\n",
    "    1: \"A\", # gen A is at bus 1\n",
    "    2: \"B\"\n",
    "    }\n",
    "\n",
    "#### load inputs ####\n",
    "# bus load- bus id and its 200MW load\n",
    "bus_load = {1:0, 2:0, 3:200, 4:175}\n",
    "tot_load = sum(bus_load.values()) # total system load\n"
   ]
  },
  {
   "cell_type": "markdown",
   "id": "183a0a08-154f-4aa8-af7c-1a4f3c06a59b",
   "metadata": {},
   "source": [
    "## Optimization Setup"
   ]
  },
  {
   "cell_type": "markdown",
   "id": "72929a2c-c917-46c8-b350-1e860f5d5103",
   "metadata": {},
   "source": [
    "### Decision Variables\n",
    "The decision variables for the optimization problem are\n",
    "- quantity (MW) each generator segment cleared\n",
    "- quantity (MW) each generator is dispatched\n",
    "- flow (MW) on each branch\n",
    "- theta is the bus phase angle"
   ]
  },
  {
   "cell_type": "code",
   "execution_count": 11,
   "id": "d10277cb-e6f8-433b-bc5f-0e51f815f166",
   "metadata": {},
   "outputs": [],
   "source": [
    "# create pulp optimization problem\n",
    "econ_dispatch = pulp.LpProblem(\"EconomicDispatch\",pulp.LpMinimize)\n",
    "\n",
    "#### decision variables ####\n",
    "\n",
    "# seg_vars- quantity of each segment dispatched/cleared\n",
    "# create a list of tuples, where each tuple is a (gen id, segment id)\n",
    "gen_seg_index = []\n",
    "# loop through gen_seg to find all the segs each gen has\n",
    "for g in gen_segs:\n",
    "    gen_seg_index.append([tuple((str(g),s)) for s in list(gen_segs[g].keys())])\n",
    "# return one list/iterable of tuples\n",
    "gen_seg_index = list(chain(*gen_seg_index))\n",
    "# segment variables indicate how much of a segment is dispatched/cleared\n",
    "seg_vars = pulp.LpVariable.dicts(\"gs\",gen_seg_index,0)\n",
    "\n",
    "# gen_vars- each generators output/dispatched quantity\n",
    "gen_vars = pulp.LpVariable.dicts(\"g\",gen_limits)\n",
    "\n",
    "# flow_vars- power flowing on each branch\n",
    "flow_vars = pulp.LpVariable.dicts('br',susceptances.keys())\n",
    "\n",
    "# theta- phase angles for each bus\n",
    "theta = pulp.LpVariable.dicts('theta',bus,-math.pi,math.pi)"
   ]
  },
  {
   "cell_type": "markdown",
   "id": "f4a4bbf0-b264-408f-ae44-cbf6d7235ed3",
   "metadata": {},
   "source": [
    "### Objective Function and Constraints\n",
    "The objective function is the sum of all generator segment costs. The goal of the economic dispatch problem is to minimize production costs subject to the constraints, including branch power flow limits, generator limits, and ensuring supply equals demand. "
   ]
  },
  {
   "cell_type": "code",
   "execution_count": 13,
   "id": "19cfbb3a-9d9c-4678-8b39-1dd8e805d06b",
   "metadata": {},
   "outputs": [],
   "source": [
    "#### objective function ####\n",
    "econ_dispatch += pulp.lpSum(seg_vars[gs]*gen_segs[gs[0]][gs[1]][1] for gs in gen_seg_index)\n",
    "\n",
    "\n",
    "#### constraints ####\n",
    "\n",
    "# energy balance (gen = load)\n",
    "econ_dispatch += (pulp.lpSum(gen_vars) == tot_load)\n",
    "\n",
    "# power flow on each brach\n",
    "for s in susceptances:\n",
    "    econ_dispatch += (pu*susceptances[s]*(theta[s[0]]-theta[s[1]]) == flow_vars[s])\n",
    "\n",
    "# power flow limits on each branch\n",
    "for b in susceptances.keys():\n",
    "    econ_dispatch += flow_vars[(b)] <= flow_limits[(b)] # limit flow from bus 1 -> 2\n",
    "    econ_dispatch += flow_vars[(b)] >= -flow_limits[(b)] # limit flow from bus 2 -> 1\n",
    "\n",
    "# bus power balance\n",
    "# buses with gen\n",
    "for b in bus_gen.keys():\n",
    "    econ_dispatch += (-pulp.lpSum(flow_vars[s] for s in susceptances if s[0]==b) \n",
    "                      + pulp.lpSum(flow_vars[s] for s in susceptances if s[1]==b)\n",
    "                      + gen_vars[bus_gen.get(b)]\n",
    "                      - bus_load[b]\n",
    "                      ==0\n",
    "                      )\n",
    "# buses without gen  \n",
    "for b in (set(bus) - set(bus_gen.keys())):\n",
    "    econ_dispatch += (- pulp.lpSum(flow_vars[s] for s in susceptances if s[0]==b) \n",
    "                      + pulp.lpSum(flow_vars[s] for s in susceptances if s[1]==b)\n",
    "                      - bus_load[b]\n",
    "                      ==0\n",
    "                      )\n",
    "    \n",
    "# generator constraints\n",
    "# gen variables- generator total output\n",
    "# set gen limits\n",
    "for g in gen_vars:\n",
    "    econ_dispatch += (gen_vars[g] >= gen_limits[g][0]) # >= lower limit\n",
    "    econ_dispatch += (gen_vars[g] <= gen_limits[g][1]) # <= upper limit\n",
    "\n",
    "# constraint- sum of seg cleared must equal gen output\n",
    "for g in gen_vars:\n",
    "    econ_dispatch += (pulp.lpSum(seg_vars[(g,s)] for s in range(1,max(gen_segs[g].keys())+1)) == gen_vars.get(g))\n",
    "\n",
    "# set upperbound for segment MW\n",
    "for s in seg_vars:\n",
    "    econ_dispatch += (seg_vars[s] <= gen_segs[s[0]][s[1]][0])\n",
    "\n",
    "theta[1].setInitialValue(0)\n",
    "theta[1].fixValue()"
   ]
  },
  {
   "cell_type": "markdown",
   "id": "3109b2a1-d31e-4e03-a33a-4ec62a30e297",
   "metadata": {},
   "source": [
    "## Solution and Results\n",
    "Solve the optimization problem and display the optimal values for the decision variables. The updated network figure at the bottom shwos the optimal power flows on each branch."
   ]
  },
  {
   "cell_type": "code",
   "execution_count": 15,
   "id": "963e5233-00b9-472f-8adf-491e60d11c69",
   "metadata": {},
   "outputs": [
    {
     "name": "stdout",
     "output_type": "stream",
     "text": [
      "Problem Status: Optimal\n"
     ]
    }
   ],
   "source": [
    "# solve check status\n",
    "solver = pulp.PULP_CBC_CMD(msg=True,warmStart=True)\n",
    "econ_dispatch.solve(solver)\n",
    "print('Problem Status: ' + pulp.LpStatus[econ_dispatch.status])"
   ]
  },
  {
   "cell_type": "code",
   "execution_count": 17,
   "id": "0c8e335e-29c4-4fc8-8e16-c59d1cfa1108",
   "metadata": {},
   "outputs": [
    {
     "name": "stdout",
     "output_type": "stream",
     "text": [
      "Objective Function Value: 8625.0\n"
     ]
    },
    {
     "data": {
      "text/html": [
       "<div>\n",
       "<style scoped>\n",
       "    .dataframe tbody tr th:only-of-type {\n",
       "        vertical-align: middle;\n",
       "    }\n",
       "\n",
       "    .dataframe tbody tr th {\n",
       "        vertical-align: top;\n",
       "    }\n",
       "\n",
       "    .dataframe thead th {\n",
       "        text-align: right;\n",
       "    }\n",
       "</style>\n",
       "<table border=\"1\" class=\"dataframe\">\n",
       "  <thead>\n",
       "    <tr style=\"text-align: right;\">\n",
       "      <th></th>\n",
       "      <th>Optimal Value</th>\n",
       "    </tr>\n",
       "  </thead>\n",
       "  <tbody>\n",
       "    <tr>\n",
       "      <th>br_(1,_2)</th>\n",
       "      <td>-9.375000</td>\n",
       "    </tr>\n",
       "    <tr>\n",
       "      <th>br_(1,_3)</th>\n",
       "      <td>153.125000</td>\n",
       "    </tr>\n",
       "    <tr>\n",
       "      <th>br_(1,_4)</th>\n",
       "      <td>106.250000</td>\n",
       "    </tr>\n",
       "    <tr>\n",
       "      <th>br_(2,_4)</th>\n",
       "      <td>115.625000</td>\n",
       "    </tr>\n",
       "    <tr>\n",
       "      <th>br_(3,_4)</th>\n",
       "      <td>-46.875000</td>\n",
       "    </tr>\n",
       "    <tr>\n",
       "      <th>g_A</th>\n",
       "      <td>250.000000</td>\n",
       "    </tr>\n",
       "    <tr>\n",
       "      <th>g_B</th>\n",
       "      <td>125.000000</td>\n",
       "    </tr>\n",
       "    <tr>\n",
       "      <th>gs_('A',_1)</th>\n",
       "      <td>150.000000</td>\n",
       "    </tr>\n",
       "    <tr>\n",
       "      <th>gs_('A',_2)</th>\n",
       "      <td>100.000000</td>\n",
       "    </tr>\n",
       "    <tr>\n",
       "      <th>gs_('A',_3)</th>\n",
       "      <td>0.000000</td>\n",
       "    </tr>\n",
       "    <tr>\n",
       "      <th>gs_('B',_1)</th>\n",
       "      <td>100.000000</td>\n",
       "    </tr>\n",
       "    <tr>\n",
       "      <th>gs_('B',_2)</th>\n",
       "      <td>25.000000</td>\n",
       "    </tr>\n",
       "    <tr>\n",
       "      <th>gs_('B',_3)</th>\n",
       "      <td>0.000000</td>\n",
       "    </tr>\n",
       "    <tr>\n",
       "      <th>theta_1</th>\n",
       "      <td>0.000000</td>\n",
       "    </tr>\n",
       "    <tr>\n",
       "      <th>theta_2</th>\n",
       "      <td>0.009375</td>\n",
       "    </tr>\n",
       "    <tr>\n",
       "      <th>theta_3</th>\n",
       "      <td>-0.153125</td>\n",
       "    </tr>\n",
       "    <tr>\n",
       "      <th>theta_4</th>\n",
       "      <td>-0.106250</td>\n",
       "    </tr>\n",
       "  </tbody>\n",
       "</table>\n",
       "</div>"
      ],
      "text/plain": [
       "             Optimal Value\n",
       "br_(1,_2)        -9.375000\n",
       "br_(1,_3)       153.125000\n",
       "br_(1,_4)       106.250000\n",
       "br_(2,_4)       115.625000\n",
       "br_(3,_4)       -46.875000\n",
       "g_A             250.000000\n",
       "g_B             125.000000\n",
       "gs_('A',_1)     150.000000\n",
       "gs_('A',_2)     100.000000\n",
       "gs_('A',_3)       0.000000\n",
       "gs_('B',_1)     100.000000\n",
       "gs_('B',_2)      25.000000\n",
       "gs_('B',_3)       0.000000\n",
       "theta_1           0.000000\n",
       "theta_2           0.009375\n",
       "theta_3          -0.153125\n",
       "theta_4          -0.106250"
      ]
     },
     "execution_count": 17,
     "metadata": {},
     "output_type": "execute_result"
    }
   ],
   "source": [
    "print(f'Objective Function Value: {pulp.value(econ_dispatch.objective)}')\n",
    "optimal_x = {}\n",
    "for v in econ_dispatch.variables():\n",
    "    optimal_x[v.name] = v.varValue\n",
    "pd.DataFrame.from_dict(optimal_x,orient=\"index\", columns=['Optimal Value'])"
   ]
  },
  {
   "cell_type": "code",
   "execution_count": 19,
   "id": "39fa9e08-1611-413b-8f27-c8128b62aa1f",
   "metadata": {},
   "outputs": [],
   "source": [
    "# get power flows on branches\n",
    "pf_x = {br:val for br,val in optimal_x.items() if br in list(map(str,(list(flow_vars.values()))))} # power flow var values\n",
    "flow_vars_str = {str(v):k for k,v in flow_vars.items()} # flow var dictionary with keys as strings (instead of pulp vars)\n",
    "flow_mw = {flow_vars_str[g]:val for g,val in pf_x.items()}"
   ]
  },
  {
   "cell_type": "code",
   "execution_count": 21,
   "id": "9279e85b-3a4c-4f12-bc94-724823e25605",
   "metadata": {},
   "outputs": [],
   "source": [
    "# calculate bus net injections\n",
    "gen_x = {g:val for g,val in optimal_x.items() if g in list(map(str,(list(gen_vars.values()))))} # gen var values\n",
    "gen_vars_str = {str(v):k for k,v in gen_vars.items()} # gen var dict with keys as strings\n",
    "gen_mw = {gen_vars_str[g]:val for g,val in gen_x.items()} # bus gen MW amounts\n",
    "bus_gen_soln = {k:gen_mw[v] for k,v in bus_gen.items()} # bus gen amounts\n",
    "# net inj  = gen - load\n",
    "net_inj_mw = {k: bus_load[k]*-1 for k in bus_load}\n",
    "for k in bus_load:\n",
    "    if k in bus_gen_soln:\n",
    "        net_inj_mw[k] = net_inj_mw[k] + bus_gen_soln[k]"
   ]
  },
  {
   "cell_type": "code",
   "execution_count": 23,
   "id": "98f42c5d-1a12-4977-8d66-4837bd95e512",
   "metadata": {},
   "outputs": [
    {
     "data": {
      "image/png": "[encoded data removed]",
      "text/plain": [
       "<Figure size 640x480 with 1 Axes>"
      ]
     },
     "metadata": {},
     "output_type": "display_data"
    }
   ],
   "source": [
    "functions_4bus.create_fig_4bus(flow_mw,net_inj_mw)"
   ]
  }
 ],
 "metadata": {
  "kernelspec": {
   "display_name": "Python 3 (ipykernel)",
   "language": "python",
   "name": "python3"
  },
  "language_info": {
   "codemirror_mode": {
    "name": "ipython",
    "version": 3
   },
   "file_extension": ".py",
   "mimetype": "text/x-python",
   "name": "python",
   "nbconvert_exporter": "python",
   "pygments_lexer": "ipython3",
   "version": "3.12.3"
  }
 },
 "nbformat": 4,
 "nbformat_minor": 5
}
